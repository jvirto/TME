{
 "cells": [
  {
   "cell_type": "markdown",
   "metadata": {},
   "source": [
    "# Pseudo-random number generators\n",
    "\n",
    "The _random number generators_ (RNG) we find in all programming languages and libraries \n",
    "are in fact `pseudo-random number generators`; they are based on an algorithm and therefore have a predictable sequence (and are thus not truly random), but their statistical properties match the ones of random numbers. \n",
    "\n",
    "You can read about these algorithms, their limitations and their possible shortcomings in chapter 7 of the book ___Numerical recipes__:\n",
    "\n",
    "* C version: https://www.cec.uchile.cl/cinetica/pcordero/MC_libros/NumericalRecipesinC.pdf\n",
    "* Fortran version: https://www.iaa.csic.es/~dani/ebooks/num_rec_book.pdf\n",
    "\n",
    "Also, this web page contains a lot of information about random numbers, and a generator of ___real___ random numbers:\n",
    "\n",
    "* https://www.random.org\n",
    "\n",
    "The RNGs can be tested to check the quality of the sequences they provide. The following resources provide background and tools for the testing of RNGs:\n",
    "\n",
    "* https://www.random.org/analysis/\n",
    "* http://webhome.phy.duke.edu/~rgb/General/dieharder.php\n",
    "* http://simul.iro.umontreal.ca/testu01/tu01.html"
   ]
  },
  {
   "cell_type": "markdown",
   "metadata": {},
   "source": [
    "## ANSI example of a basic generator\n",
    "\n",
    "See chapter 7 of \"Numerical reciepes\". Generates integers between 0 and 32767. \n",
    "\n",
    "In the book implementation the code is:\n",
    "\n",
    "    next = next*1103515245 + 12345 \n",
    "    \n",
    "If this implementation is used, the code becomes slower and slower as more integers are generated. With the multiplication the value of `next` increases indefinitely, and the number of bits used by Python to represent it keeps increasing, making the computation slow.\n",
    "\n",
    "Here I have modified it to:\n",
    "\n",
    "    next = (next*1103515245)%2**32 + 12345\n",
    "\n",
    "The `%2**32` imitates the overflowing of a C unsigned long int that will happen with the multiplication.\n",
    "\n",
    "### Histogram and uniformity test ($\\chi^2$)"
   ]
  },
  {
   "cell_type": "code",
   "execution_count": 3,
   "metadata": {},
   "outputs": [
    {
     "data": {
      "image/png": "[encoded data removed]",
      "text/plain": [
       "<Figure size 432x288 with 1 Axes>"
      ]
     },
     "metadata": {
      "needs_background": "light"
     },
     "output_type": "display_data"
    }
   ],
   "source": [
    "%matplotlib inline\n",
    "import scipy.stats as scp\n",
    "import matplotlib.pylab as plt\n",
    "\n",
    "# Global variable to contain the ongoing generated number\n",
    "next= 1\n",
    "\n",
    "\n",
    "# Generator: generates integers between 0 and 32767\n",
    "def rand():\n",
    "    global next\n",
    "    next = (next*1103515245)%2**32 + 12345 \n",
    "    return (next//65536) % 32768\n",
    "\n",
    "# Set random seed\n",
    "def srand(seed):\n",
    "    global next\n",
    "    next=seed\n",
    "\n",
    "    \n",
    "# Generate a sample and plot histogram\n",
    "x= []\n",
    "for i in range(100000):\n",
    "    x.append(rand())\n",
    "    \n",
    "    \n",
    "# Plot histogram; we use the hist function to recover the counts per bin\n",
    "h= plt.hist(x,20) # h[0] will be the counts per bin\n",
    "plt.grid(True)\n",
    "plt.xlabel('Val')\n",
    "plt.ylabel('Count')\n",
    "\n",
    "# Run test\n",
    "c2_stat, p_val = scp.chisquare(h[0])   \n",
    "\n",
    "t = plt.title(\"p value = {:.4f}\".format(p_val))"
   ]
  },
  {
   "cell_type": "code",
   "execution_count": null,
   "metadata": {},
   "outputs": [],
   "source": []
  }
 ],
 "metadata": {
  "kernelspec": {
   "display_name": "Python 3",
   "language": "python",
   "name": "python3"
  },
  "language_info": {
   "codemirror_mode": {
    "name": "ipython",
    "version": 3
   },
   "file_extension": ".py",
   "mimetype": "text/x-python",
   "name": "python",
   "nbconvert_exporter": "python",
   "pygments_lexer": "ipython3",
   "version": "3.8.8"
  }
 },
 "nbformat": 4,
 "nbformat_minor": 2
}
