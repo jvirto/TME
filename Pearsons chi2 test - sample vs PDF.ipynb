{
 "cells": [
  {
   "cell_type": "markdown",
   "metadata": {},
   "source": [
    "# Pearson's $\\chi^2$ test to compare a sample vs. a PDF\n",
    "\n",
    "With this test we can check the hipothesis that a sample has been generated from a given PDF. Given a sample:\n",
    "\n",
    "* $(x_1, \\ldots, x_N)$ of variance $\\sigma_x^2$\n",
    "\n",
    "We define a binning and count the number of objects in each interval:\n",
    "\n",
    "* $a_1 \\leq x < a_2 \\longrightarrow N_1$\n",
    "* $a_2 \\leq x < a_3 \\longrightarrow N_2$\n",
    "* $a_3 \\leq x < a_4 \\longrightarrow N_3$\n",
    "* ...\n",
    "\n",
    "With $N = \\sum_{i=1}^M N_i$. Then we predict the expected counts on the same bins from the PDF:\n",
    "\n",
    "* $a_1 \\leq x < a_2 \\longrightarrow n_1$\n",
    "* $a_2 \\leq x < a_3 \\longrightarrow n_2$\n",
    "* $a_3 \\leq x < a_4 \\longrightarrow n_3$\n",
    "* ...\n",
    "\n",
    "where:\n",
    "\n",
    "$n_i = \\int_{a_j}^{a_{j+1}} f(x) \\; dx$\n",
    "\n",
    "Using these \"observed\" and \"predicted\" counts we define a statistic:\n",
    "\n",
    "$\\chi^2 = \\sum_{i=1}^M \\frac{(N_i-n_i)^2}{n_i} $\n",
    "\n",
    "If the null hipothesis is true, $M>>1$ and/or $N_i>>1$, then $\\chi^2$ follows with good approximation a $\\chi^2$ distribution with $K$ degrees of freedom, where: \n",
    "\n",
    "* $K = M$  if the data has been collected fixing N beforehand\n",
    "* $K = M-1$\tif the data has been collected and $f(x)$ has been normalized to N afterwards\n",
    "* $K = M-1-p$ if $p$ additional parameters of $f(x)$ had been adjusted to the observations\n",
    "\n",
    "For a perfect (ideal) match of the data and the PDF $\\chi^2$ would be zero. The larger the value of $\\chi^2$ the worse the fit. We define the significance of the test as $P(x \\geq \\chi^2)$."
   ]
  },
  {
   "cell_type": "markdown",
   "metadata": {},
   "source": [
    "## Use of the test with a sample from a uniform PDF\n",
    "\n",
    "We can demonstrate the use of the test by generating a uniformly distributed sample and comparing it with a matching PDF.\n",
    "\n",
    "__Note:__ the scipy chisquare function assumes a uniform distribution if no frequencies are given."
   ]
  },
  {
   "cell_type": "code",
   "execution_count": 15,
   "metadata": {},
   "outputs": [
    {
     "data": {
      "image/png": "[encoded data removed]",
      "text/plain": [
       "<Figure size 432x288 with 1 Axes>"
      ]
     },
     "metadata": {
      "needs_background": "light"
     },
     "output_type": "display_data"
    }
   ],
   "source": [
    "%matplotlib inline\n",
    "import scipy.stats as scp\n",
    "import matplotlib.pylab as plt\n",
    "import numpy as np\n",
    "\n",
    "# Parameters of the uniform distributionto use\n",
    "# and number of points per sample\n",
    "min= 0\n",
    "max= 1\n",
    "N= 10000\n",
    "\n",
    "dist= scp.uniform(min,scale=max-min)\n",
    "\n",
    "# Generate sample\n",
    "x= dist.rvs(N)\n",
    "\n",
    "# Plot histogram; we use the hist function to recover the counts per bin\n",
    "h= plt.hist(x,20) # h[0] will be the counts per bin\n",
    "plt.grid(True)\n",
    "plt.xlabel('Val')\n",
    "plt.ylabel('Count')\n",
    "\n",
    "# Run test\n",
    "c2_stat, p_val = scp.chisquare(h[0])   \n",
    "\n",
    "t = plt.title(\"p value = {:.4f}\".format(p_val))\n",
    "plt.show()"
   ]
  },
  {
   "cell_type": "markdown",
   "metadata": {},
   "source": [
    "## Uniform distribution: histogram of $\\chi^2$ test p-values"
   ]
  },
  {
   "cell_type": "code",
   "execution_count": 21,
   "metadata": {},
   "outputs": [
    {
     "data": {
      "image/png": "[encoded data removed]",
      "text/plain": [
       "<Figure size 432x288 with 1 Axes>"
      ]
     },
     "metadata": {
      "needs_background": "light"
     },
     "output_type": "display_data"
    }
   ],
   "source": [
    "%matplotlib inline\n",
    "import scipy.stats as scp\n",
    "import matplotlib.pylab as plt\n",
    "import numpy as np\n",
    "\n",
    "# Parameters of the uniform distributionto use\n",
    "# and number of points per sample\n",
    "min= 0\n",
    "max= 1\n",
    "N= 1000\n",
    "Nsamples= 10000\n",
    "\n",
    "dist= scp.uniform(min,scale=max-min)\n",
    "\n",
    "# Generate samples and collect p-values\n",
    "bins= np.linspace(min,max,10)\n",
    "p_values= []\n",
    "for i in range(Nsamples):\n",
    "    x= dist.rvs(N)\n",
    "#     x= scp.norm.rvs(0.,1.,N)\n",
    "    counts= np.histogram(x,bins)\n",
    "    c2_stat, p_val = scp.chisquare(counts[0])  \n",
    "    p_values.append(p_val)\n",
    "\n",
    "# Plot histogram; we use the hist function to recover the counts per bin\n",
    "h= plt.hist(p_values,20) # h[0] will be the counts per bin\n",
    "plt.grid(True)\n",
    "plt.xlabel('p')\n",
    "plt.ylabel('Count')\n",
    "\n",
    "plt.show()"
   ]
  },
  {
   "cell_type": "markdown",
   "metadata": {},
   "source": [
    "## Normal distribution (wrong use): histogram of $\\chi^2$ test p-values\n",
    "\n",
    "__IMPORTANT!!__  This is a counter-example. The test may not be reliable when there are less than 40 bins or when\n",
    "some of the bins have less than 5 counts. \n",
    "\n",
    "We apply the test here without respecting these conditions and we can see how the p-value is not well behaved."
   ]
  },
  {
   "cell_type": "code",
   "execution_count": 10,
   "metadata": {},
   "outputs": [
    {
     "data": {
      "image/png": "[encoded data removed]",
      "text/plain": [
       "<Figure size 1080x540 with 2 Axes>"
      ]
     },
     "metadata": {
      "needs_background": "light"
     },
     "output_type": "display_data"
    }
   ],
   "source": [
    "%matplotlib inline\n",
    "import scipy.stats as scp\n",
    "import matplotlib.pylab as plt\n",
    "import numpy as np\n",
    "\n",
    "# Parameters of the uniform distributionto use\n",
    "# and number of points per sample\n",
    "mu= 0\n",
    "sig= 3\n",
    "N= 100\n",
    "Nsamples= 10000\n",
    "\n",
    "dist= scp.norm(mu,sig)\n",
    "\n",
    "# Generate bins and predict counts from CDF\n",
    "bins= np.linspace(dist.ppf(0.0001),dist.ppf(0.9999),20)\n",
    "# print(bins)\n",
    "p_bins= [ N*(dist.cdf(bins[i+1])-dist.cdf(bins[i])) for i in range(len(bins)-1)]\n",
    "\n",
    "# Plot histogram of a single sample as a reference\n",
    "fig = plt.figure(frameon=False)\n",
    "fig.set_size_inches(15,7.5)\n",
    "\n",
    "p1= plt.subplot(2,1,1)\n",
    "p= plt.step(bins[:-1],p_bins,where=\"post\",color=\"red\")\n",
    "x= dist.rvs(N)\n",
    "plt.xlabel('x')\n",
    "plt.ylabel('Count')\n",
    "p= plt.hist(x,bins)\n",
    "\n",
    "\n",
    "# Generate samples and collect p-values\n",
    "p_values= []\n",
    "for i in range(Nsamples):\n",
    "    x= dist.rvs(N)\n",
    "    counts= np.histogram(x,bins)\n",
    "    c2_stat, p_val = scp.chisquare(counts[0],p_bins)  \n",
    "    p_values.append(p_val)\n",
    "\n",
    "# Plot histogram of p-values\n",
    "p1= plt.subplot(2,1,2)\n",
    "h= plt.hist(p_values,20) # h[0] will be the counts per bin\n",
    "plt.grid(True)\n",
    "plt.xlabel('p')\n",
    "plt.ylabel('Count')\n",
    "\n",
    "plt.show()"
   ]
  },
  {
   "cell_type": "code",
   "execution_count": null,
   "metadata": {},
   "outputs": [],
   "source": []
  }
 ],
 "metadata": {
  "kernelspec": {
   "display_name": "Python 3",
   "language": "python",
   "name": "python3"
  },
  "language_info": {
   "codemirror_mode": {
    "name": "ipython",
    "version": 3
   },
   "file_extension": ".py",
   "mimetype": "text/x-python",
   "name": "python",
   "nbconvert_exporter": "python",
   "pygments_lexer": "ipython3",
   "version": "3.7.4"
  }
 },
 "nbformat": 4,
 "nbformat_minor": 2
}
