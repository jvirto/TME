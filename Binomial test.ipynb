{
 "cells": [
  {
   "cell_type": "code",
   "execution_count": null,
   "metadata": {},
   "outputs": [],
   "source": [
    "# one tailed test\n",
    "print(scipy.stats.binom.sf(k-1,n,p))\n",
    "print(12*'-')\n",
    "print(scipy.stats.binom.sf(9,20,0.3))"
   ]
  },
  {
   "cell_type": "code",
   "execution_count": null,
   "metadata": {},
   "outputs": [],
   "source": [
    "# two-tailed test\n",
    "print(scipy.stats.binom_test(k,n,p))\n",
    "print(12*'-')\n",
    "print(scipy.stats.binom_test(10,20,0.3))"
   ]
  },
  {
   "cell_type": "code",
   "execution_count": null,
   "metadata": {},
   "outputs": [],
   "source": [
    "# Attention!!\n",
    "# Compute two-sided binomial confidence interval in Python. Based on R's binom.test. \n",
    "from scipy.stats import beta\n",
    "\n",
    "def binom_interval(success, total, confint=0.95):\n",
    "    quantile = (1 - confint) / 2.\n",
    "    lower = beta.ppf(quantile, success, total - success + 1)\n",
    "    upper = beta.ppf(1 - quantile, success + 1, total - success)\n",
    "    return (lower, upper)\n",
    "\n",
    "success = 24\n",
    "total = 300\n",
    "print(binom_interval(success, total, confint=0.95)) # Same result with R!\n",
    "print(12*'-')\n",
    "success = 10\n",
    "total = 20\n",
    "print(binom_interval(success, total, confint=0.95))"
   ]
  }
 ],
 "metadata": {
  "kernelspec": {
   "display_name": "Python 3",
   "language": "python",
   "name": "python3"
  },
  "language_info": {
   "codemirror_mode": {
    "name": "ipython",
    "version": 3
   },
   "file_extension": ".py",
   "mimetype": "text/x-python",
   "name": "python",
   "nbconvert_exporter": "python",
   "pygments_lexer": "ipython3",
   "version": "3.7.4"
  }
 },
 "nbformat": 4,
 "nbformat_minor": 2
}
