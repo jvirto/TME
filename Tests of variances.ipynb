{
 "cells": [
  {
   "cell_type": "markdown",
   "metadata": {},
   "source": [
    "# Checking for equal variances\n",
    "\n",
    "These tests are applied to compare the variances of two samples. Given two samples:\n",
    "\n",
    "* $(x_1, \\ldots, x_N)$ of variance $\\sigma_x^2$\n",
    "* $(y_1, \\ldots, y_M)$ of variance $\\sigma_y^2$\n",
    "\n",
    "We can define a test to compare the two variances $\\sigma_x^2$ and $\\sigma_y^2$ and decide if they are compatible.\n",
    "\n",
    "__Null hipothesis $H_0$:__ the distributions of the two samples have the same variance.\n",
    "\n",
    "We then obtain a statistic and from it a significance.\n",
    "\n",
    "__Note:__ in previous years we used the _F-test_ as test of variance, but it is too sensitive to non-normality. Two other variance tests from _scipy_ are used here.\n",
    "\n",
    "From scipy documentation: https://docs.scipy.org/doc/scipy/reference/generated/scipy.stats.bartlett.html#scipy.stats.bartlett\n",
    "\n",
    "```Conover et al. (1981) examine many of the existing parametric and nonparametric tests by extensive simulations and they conclude that the tests proposed by Fligner and Killeen (1976) and Levene (1960) appear to be superior in terms of robustness of departures from normality and power ([3]).```"
   ]
  },
  {
   "cell_type": "markdown",
   "metadata": {},
   "source": [
    "## Flignen-Killeen test using two normal samples\n",
    "\n",
    "Fligner-Killeen’s test tests the null hypothesis that all input samples are from populations with equal variances. For large sample sizes, the modified Fligner-Killeen test statistic has an asymptotic chi-square distribution with $(k-1)$ degrees of freedom, where $k$ is the number of samples being checked for homogeneity of the variance.\n",
    "\n",
    "We can play making the variances similar or different to see how the test works."
   ]
  },
  {
   "cell_type": "code",
   "execution_count": 2,
   "metadata": {},
   "outputs": [
    {
     "data": {
      "image/png": "[encoded data removed]",
      "text/plain": [
       "<Figure size 432x288 with 1 Axes>"
      ]
     },
     "metadata": {
      "needs_background": "light"
     },
     "output_type": "display_data"
    }
   ],
   "source": [
    "%matplotlib inline\n",
    "import scipy.stats as scp\n",
    "import matplotlib.pylab as plt\n",
    "import numpy as np\n",
    "\n",
    "# Parameters of the normal distributions to use\n",
    "# and number of points per sample\n",
    "mu1=0\n",
    "mu2=0 # Means are not relevant for the test\n",
    "sig1=1\n",
    "sig2=2\n",
    "\n",
    "N= 1000\n",
    "M= 1000\n",
    "\n",
    "# Generate a normal sample \n",
    "x = scp.norm.rvs(mu1, sig1, N)\n",
    "y = scp.norm.rvs(mu2, sig2, N)\n",
    "\n",
    "# Plot histograms\n",
    "h= plt.hist(x,alpha=0.5)\n",
    "h= plt.hist(y,alpha=0.5)\n",
    "plt.grid(True)\n",
    "plt.xlabel('Val')\n",
    "plt.ylabel('Count')\n",
    "\n",
    "# Run test\n",
    "f_stat, p_val = scp.fligner(x, y)   \n",
    "\n",
    "t = plt.title(\"P value = {:.4f}\".format(p_val))\n",
    "plt.show()"
   ]
  },
  {
   "cell_type": "markdown",
   "metadata": {},
   "source": [
    "## Levene test using two normal samples\n",
    "\n",
    "Three variations of Levene’s test are possible. The possibilities and their recommended usages are:\n",
    "\n",
    "        ‘median’ : Recommended for skewed (non-normal) distributions>\n",
    "\n",
    "        ‘mean’ : Recommended for symmetric, moderate-tailed distributions.\n",
    "\n",
    "        ‘trimmed’ : Recommended for heavy-tailed distributions.\n",
    "\n"
   ]
  },
  {
   "cell_type": "code",
   "execution_count": 6,
   "metadata": {},
   "outputs": [
    {
     "data": {
      "image/png": "[encoded data removed]",
      "text/plain": [
       "<Figure size 432x288 with 1 Axes>"
      ]
     },
     "metadata": {
      "needs_background": "light"
     },
     "output_type": "display_data"
    }
   ],
   "source": [
    "%matplotlib inline\n",
    "import scipy.stats as scp\n",
    "import matplotlib.pylab as plt\n",
    "import numpy as np\n",
    "\n",
    "# Parameters of the normal distributions to use\n",
    "# and number of points per sample\n",
    "mu1=0\n",
    "mu2=0 # Means are not relevant for the test\n",
    "sig1=1\n",
    "sig2=2\n",
    "\n",
    "N= 1000\n",
    "M= 1000\n",
    "\n",
    "# Generate a normal sample \n",
    "x = scp.norm.rvs(mu1, sig1, N)\n",
    "y = scp.norm.rvs(mu2, sig2, N)\n",
    "\n",
    "# Plot histograms\n",
    "h= plt.hist(x,alpha=0.5)\n",
    "h= plt.hist(y,alpha=0.5)\n",
    "plt.grid(True)\n",
    "plt.xlabel('Val')\n",
    "plt.ylabel('Count')\n",
    "\n",
    "# Run test\n",
    "f_stat, p_val = scp.levene(x, y)   \n",
    "\n",
    "t = plt.title(\"P value = {:.4f}\".format(p_val))\n",
    "\n",
    "plt.show()"
   ]
  },
  {
   "cell_type": "code",
   "execution_count": null,
   "metadata": {},
   "outputs": [],
   "source": []
  }
 ],
 "metadata": {
  "kernelspec": {
   "display_name": "Python 3",
   "language": "python",
   "name": "python3"
  },
  "language_info": {
   "codemirror_mode": {
    "name": "ipython",
    "version": 3
   },
   "file_extension": ".py",
   "mimetype": "text/x-python",
   "name": "python",
   "nbconvert_exporter": "python",
   "pygments_lexer": "ipython3",
   "version": "3.7.4"
  }
 },
 "nbformat": 4,
 "nbformat_minor": 2
}
