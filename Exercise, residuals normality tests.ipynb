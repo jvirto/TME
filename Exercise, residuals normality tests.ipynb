{
 "cells": [
  {
   "cell_type": "markdown",
   "metadata": {},
   "source": [
    "## Exercise: residuals normality tests\n",
    "\n",
    "You are provided with three samples: SampleA.dat, SampleB.dat, SampleC.dat\n",
    "\n",
    "Each sample is a simulation of the measurement of the relation between two quantities $x$ and $y$ that theory tells us is as: \n",
    "\n",
    "$y = 1 + 10x$\n",
    "\n",
    "We have three experimental setups (A,B,C) such that for each value of x (assumed errorless) in each set the errors in the measurement of $y$ have different characteristics. \n",
    "\n",
    "Analyze the residuals and try to ascertain if they are normal.\n",
    "\n",
    "![](./Samples.png)"
   ]
  },
  {
   "cell_type": "markdown",
   "metadata": {},
   "source": []
  },
  {
   "cell_type": "code",
   "execution_count": null,
   "metadata": {},
   "outputs": [],
   "source": []
  }
 ],
 "metadata": {
  "kernelspec": {
   "display_name": "Python 3",
   "language": "python",
   "name": "python3"
  },
  "language_info": {
   "codemirror_mode": {
    "name": "ipython",
    "version": 3
   },
   "file_extension": ".py",
   "mimetype": "text/x-python",
   "name": "python",
   "nbconvert_exporter": "python",
   "pygments_lexer": "ipython3",
   "version": "3.7.4"
  }
 },
 "nbformat": 4,
 "nbformat_minor": 2
}
